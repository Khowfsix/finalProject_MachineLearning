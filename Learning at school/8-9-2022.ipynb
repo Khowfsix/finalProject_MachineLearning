{
 "cells": [
  {
   "cell_type": "markdown",
   "id": "5b65e7af",
   "metadata": {},
   "source": [
    "số hiệu đầu ra dạng bình phương cộng thêm với nhiễu không phải dạng tuyến tính nên ta không thể dùng hồi quy tuyến tính để giải bài này. Nhưng ta vẫn có thể giải bài này hai hồi quy tuyến tính bằng cách thay đổi số hiệu đầu vào có dang đa thức"
   ]
  },
  {
   "cell_type": "markdown",
   "id": "8e7c167b",
   "metadata": {},
   "source": [
    "# Làm theo thầy"
   ]
  },
  {
   "cell_type": "code",
   "execution_count": 1,
   "id": "6cbfb192",
   "metadata": {},
   "outputs": [],
   "source": [
    "from sklearn import datasets, linear_model\n",
    "import numpy as np"
   ]
  },
  {
   "cell_type": "code",
   "execution_count": 2,
   "id": "96b6abbb",
   "metadata": {},
   "outputs": [],
   "source": [
    "import matplotlib.pyplot as plt"
   ]
  },
  {
   "cell_type": "code",
   "execution_count": 3,
   "id": "f163831c",
   "metadata": {},
   "outputs": [],
   "source": [
    "np.random.seed(10)\n",
    "m = 1000\n",
    "X = 6 * np.random.rand(m, 1) - 3\n",
    "y = 0.5 * X**2 + X + 2 + np.random.randn(m, 1)"
   ]
  },
  {
   "cell_type": "markdown",
   "id": "42e3f691",
   "metadata": {},
   "source": [
    "số liệu ko tuyến tính thì ta bình phương số liệu lên thì ta có thể giải theo kiểu hồi quy tuyến tính"
   ]
  },
  {
   "cell_type": "code",
   "execution_count": 4,
   "id": "ecaf33ff",
   "metadata": {},
   "outputs": [],
   "source": [
    "X2 = X**2\n",
    "# Ghép 2 cột X, X2 thành 1 ma trận 10 hàng 2 cột"
   ]
  },
  {
   "cell_type": "code",
   "execution_count": 5,
   "id": "1b41d959",
   "metadata": {},
   "outputs": [
    {
     "data": {
      "text/plain": [
       "array([[ 1.62792386,  2.65013609],\n",
       "       [-2.8754883 ,  8.26843299],\n",
       "       [ 0.80188941,  0.64302663],\n",
       "       ...,\n",
       "       [-2.00932453,  4.03738507],\n",
       "       [ 1.13968791,  1.29888854],\n",
       "       [-2.42886433,  5.89938194]])"
      ]
     },
     "execution_count": 5,
     "metadata": {},
     "output_type": "execute_result"
    }
   ],
   "source": [
    "X_poly = np.hstack([X,X2])\n",
    "X_poly"
   ]
  },
  {
   "cell_type": "code",
   "execution_count": 6,
   "id": "1ccbd74d",
   "metadata": {},
   "outputs": [
    {
     "data": {
      "text/plain": [
       "LinearRegression()"
      ]
     },
     "execution_count": 6,
     "metadata": {},
     "output_type": "execute_result"
    }
   ],
   "source": [
    "lin_reg = linear_model.LinearRegression()\n",
    "# a + bx + cx^2\n",
    "lin_reg.fit(X_poly,y)"
   ]
  },
  {
   "cell_type": "code",
   "execution_count": 7,
   "id": "b3eeafd1",
   "metadata": {},
   "outputs": [
    {
     "name": "stdout",
     "output_type": "stream",
     "text": [
      "[1.97330201]\n"
     ]
    }
   ],
   "source": [
    "print(lin_reg.intercept_)"
   ]
  },
  {
   "cell_type": "code",
   "execution_count": 8,
   "id": "d9a9b786",
   "metadata": {},
   "outputs": [
    {
     "name": "stdout",
     "output_type": "stream",
     "text": [
      "[[1.00515447 0.50245135]]\n"
     ]
    }
   ],
   "source": [
    "print(lin_reg.coef_)"
   ]
  },
  {
   "cell_type": "code",
   "execution_count": 9,
   "id": "e454e218",
   "metadata": {},
   "outputs": [
    {
     "data": {
      "text/plain": [
       "(1.9733020137461184, 1.0051544717316752, 0.5024513530096276)"
      ]
     },
     "execution_count": 9,
     "metadata": {},
     "output_type": "execute_result"
    }
   ],
   "source": [
    "a = lin_reg.intercept_[0]\n",
    "b = lin_reg.coef_[0,0]\n",
    "c = lin_reg.coef_[0,1]\n",
    "a,b,c"
   ]
  },
  {
   "cell_type": "code",
   "execution_count": 10,
   "id": "095bc5b5",
   "metadata": {},
   "outputs": [],
   "source": [
    "x_ve = np.linspace(-3,3,m)\n",
    "y_ve = a + b*x_ve + c*(x_ve**2)"
   ]
  },
  {
   "cell_type": "code",
   "execution_count": 11,
   "id": "90df2a82",
   "metadata": {},
   "outputs": [
    {
     "data": {
      "image/png": "[encoded data removed]",
      "text/plain": [
       "<Figure size 432x288 with 1 Axes>"
      ]
     },
     "metadata": {},
     "output_type": "display_data"
    }
   ],
   "source": [
    "plt.plot(X,y,'o')\n",
    "plt.plot(x_ve,y_ve,'r')\n",
    "plt.show()"
   ]
  },
  {
   "cell_type": "markdown",
   "id": "3e16695e",
   "metadata": {},
   "source": [
    "# Tính sai số"
   ]
  },
  {
   "cell_type": "markdown",
   "id": "c7eede01",
   "metadata": {},
   "source": [
    "tính bằng công thức"
   ]
  },
  {
   "cell_type": "code",
   "execution_count": 12,
   "id": "e3ea776c",
   "metadata": {},
   "outputs": [],
   "source": [
    "# sai số bình phương trung bình\n",
    "loss = 0\n",
    "for i in range(0,m):\n",
    "    y_mu = a + b*X_poly[i,0] + c*X_poly[i,1]\n",
    "    sai_so = (y[i] - y_mu)**2\n",
    "    loss = loss + sai_so\n",
    "loss = loss/(2*m)"
   ]
  },
  {
   "cell_type": "code",
   "execution_count": 13,
   "id": "58d572bc",
   "metadata": {},
   "outputs": [
    {
     "data": {
      "text/plain": [
       "array([0.48111188])"
      ]
     },
     "execution_count": 13,
     "metadata": {},
     "output_type": "execute_result"
    }
   ],
   "source": [
    "loss"
   ]
  },
  {
   "cell_type": "markdown",
   "id": "1559c70c",
   "metadata": {},
   "source": [
    "tính bằng scikit-learn"
   ]
  },
  {
   "cell_type": "code",
   "execution_count": 14,
   "id": "2bba1e75",
   "metadata": {},
   "outputs": [],
   "source": [
    "from sklearn.metrics import mean_squared_error\n",
    "from sklearn.model_selection import train_test_split"
   ]
  },
  {
   "cell_type": "code",
   "execution_count": 15,
   "id": "32960f66",
   "metadata": {},
   "outputs": [],
   "source": [
    "y_train_predict = lin_reg.predict(X_poly)"
   ]
  },
  {
   "cell_type": "code",
   "execution_count": 16,
   "id": "760f90ce",
   "metadata": {},
   "outputs": [],
   "source": [
    "meanSquaredError = mean_squared_error(y,y_train_predict)"
   ]
  },
  {
   "cell_type": "code",
   "execution_count": 17,
   "id": "afe0be48",
   "metadata": {},
   "outputs": [
    {
     "data": {
      "text/plain": [
       "0.4811118832309437"
      ]
     },
     "execution_count": 17,
     "metadata": {},
     "output_type": "execute_result"
    }
   ],
   "source": [
    "meanSquaredError/2"
   ]
  },
  {
   "cell_type": "markdown",
   "id": "779a75da",
   "metadata": {},
   "source": [
    "lựa chọn bậc để có sai số nhỏ nhất"
   ]
  },
  {
   "cell_type": "markdown",
   "id": "cadec435",
   "metadata": {},
   "source": [
    "# thử nhiễu"
   ]
  },
  {
   "cell_type": "code",
   "execution_count": 18,
   "id": "5746f544",
   "metadata": {},
   "outputs": [],
   "source": [
    "from sklearn import datasets, linear_model\n",
    "import numpy as np\n",
    "import matplotlib.pyplot as plt"
   ]
  },
  {
   "cell_type": "code",
   "execution_count": 19,
   "id": "1d7e2116",
   "metadata": {},
   "outputs": [],
   "source": [
    "np.random.seed(100)"
   ]
  },
  {
   "cell_type": "code",
   "execution_count": 20,
   "id": "93f8125e",
   "metadata": {},
   "outputs": [],
   "source": [
    "m = 20\n",
    "X = 10*np.random.rand(m,1) - 5\n",
    "Y = 2*X + 1 + np.random.rand(m,1)\n",
    "\n",
    "# Tạo nhiễu\n",
    "Y[15] = [100]"
   ]
  },
  {
   "cell_type": "code",
   "execution_count": 21,
   "id": "46044be7",
   "metadata": {},
   "outputs": [
    {
     "data": {
      "text/plain": [
       "((20, 1), (20, 1))"
      ]
     },
     "execution_count": 21,
     "metadata": {},
     "output_type": "execute_result"
    }
   ],
   "source": [
    "# X = X.reshape(1,m)\n",
    "# Y = Y.reshape(1,m)\n",
    "X.shape, Y.shape"
   ]
  },
  {
   "cell_type": "code",
   "execution_count": 22,
   "id": "455e115c",
   "metadata": {},
   "outputs": [],
   "source": [
    "lin_reg = linear_model.LinearRegression()"
   ]
  },
  {
   "cell_type": "code",
   "execution_count": 23,
   "id": "cb5b9deb",
   "metadata": {},
   "outputs": [
    {
     "data": {
      "text/plain": [
       "LinearRegression()"
      ]
     },
     "execution_count": 23,
     "metadata": {},
     "output_type": "execute_result"
    }
   ],
   "source": [
    "lin_reg.fit(X,Y)"
   ]
  },
  {
   "cell_type": "code",
   "execution_count": 24,
   "id": "8da48b84",
   "metadata": {},
   "outputs": [],
   "source": [
    "a = lin_reg.coef_[0]\n",
    "b = lin_reg.intercept_[0]\n",
    "a,b\n",
    "\n",
    "x_draw = np.linspace(-5,5,100)\n",
    "y_draw = b + a*x_draw"
   ]
  },
  {
   "cell_type": "code",
   "execution_count": 25,
   "id": "995f5c07",
   "metadata": {},
   "outputs": [
    {
     "data": {
      "image/png": "[encoded data removed]",
      "text/plain": [
       "<Figure size 432x288 with 1 Axes>"
      ]
     },
     "metadata": {},
     "output_type": "display_data"
    }
   ],
   "source": [
    "plt.plot(X,Y,'o')\n",
    "plt.plot(x_draw,y_draw,'r')\n",
    "plt.show()"
   ]
  },
  {
   "cell_type": "markdown",
   "id": "925a15f3",
   "metadata": {},
   "source": [
    "dùng hồi quy Huber để khử nhiễu"
   ]
  },
  {
   "cell_type": "code",
   "execution_count": 26,
   "id": "db279450",
   "metadata": {},
   "outputs": [],
   "source": [
    "hub_reg = linear_model.HuberRegressor()"
   ]
  },
  {
   "cell_type": "code",
   "execution_count": 27,
   "id": "0b68e50a",
   "metadata": {},
   "outputs": [
    {
     "name": "stderr",
     "output_type": "stream",
     "text": [
      "C:\\Users\\HONG PHAT\\AppData\\Roaming\\Python\\Python310\\site-packages\\sklearn\\utils\\validation.py:993: DataConversionWarning: A column-vector y was passed when a 1d array was expected. Please change the shape of y to (n_samples, ), for example using ravel().\n",
      "  y = column_or_1d(y, warn=True)\n"
     ]
    },
    {
     "data": {
      "text/plain": [
       "HuberRegressor()"
      ]
     },
     "execution_count": 27,
     "metadata": {},
     "output_type": "execute_result"
    }
   ],
   "source": [
    "hub_reg.fit(X,Y)"
   ]
  },
  {
   "cell_type": "code",
   "execution_count": 28,
   "id": "92882877",
   "metadata": {},
   "outputs": [
    {
     "ename": "IndexError",
     "evalue": "invalid index to scalar variable.",
     "output_type": "error",
     "traceback": [
      "\u001b[1;31m---------------------------------------------------------------------------\u001b[0m",
      "\u001b[1;31mIndexError\u001b[0m                                Traceback (most recent call last)",
      "\u001b[1;32mc:\\Users\\HONG PHAT\\Desktop\\ML_Learn\\Learning at school\\8-9-2022.ipynb Cell 37\u001b[0m in \u001b[0;36m<cell line: 2>\u001b[1;34m()\u001b[0m\n\u001b[0;32m      <a href='vscode-notebook-cell:/c%3A/Users/HONG%20PHAT/Desktop/ML_Learn/Learning%20at%20school/8-9-2022.ipynb#X51sZmlsZQ%3D%3D?line=0'>1</a>\u001b[0m a \u001b[39m=\u001b[39m hub_reg\u001b[39m.\u001b[39mcoef_[\u001b[39m0\u001b[39m]\n\u001b[1;32m----> <a href='vscode-notebook-cell:/c%3A/Users/HONG%20PHAT/Desktop/ML_Learn/Learning%20at%20school/8-9-2022.ipynb#X51sZmlsZQ%3D%3D?line=1'>2</a>\u001b[0m b \u001b[39m=\u001b[39m hub_reg\u001b[39m.\u001b[39;49mintercept_[\u001b[39m0\u001b[39;49m]\n\u001b[0;32m      <a href='vscode-notebook-cell:/c%3A/Users/HONG%20PHAT/Desktop/ML_Learn/Learning%20at%20school/8-9-2022.ipynb#X51sZmlsZQ%3D%3D?line=2'>3</a>\u001b[0m a,b\n\u001b[0;32m      <a href='vscode-notebook-cell:/c%3A/Users/HONG%20PHAT/Desktop/ML_Learn/Learning%20at%20school/8-9-2022.ipynb#X51sZmlsZQ%3D%3D?line=4'>5</a>\u001b[0m x_draw \u001b[39m=\u001b[39m np\u001b[39m.\u001b[39mlinspace(\u001b[39m-\u001b[39m\u001b[39m5\u001b[39m,\u001b[39m5\u001b[39m,\u001b[39m100\u001b[39m)\n",
      "\u001b[1;31mIndexError\u001b[0m: invalid index to scalar variable."
     ]
    }
   ],
   "source": [
    "a = hub_reg.coef_[0]\n",
    "b = hub_reg.intercept_[0]\n",
    "a,b\n",
    "\n",
    "x_draw = np.linspace(-5,5,100)\n",
    "y_draw = b + a*x_draw"
   ]
  },
  {
   "cell_type": "code",
   "execution_count": null,
   "id": "6c74a12d",
   "metadata": {},
   "outputs": [],
   "source": [
    "plt.plot(X,Y,'o')\n",
    "plt.plot(x_draw,y_draw,'r')\n",
    "plt.show()"
   ]
  },
  {
   "cell_type": "markdown",
   "id": "01479f96",
   "metadata": {},
   "source": [
    "Hồi quy ridge là để tích được ma trận nghịch đảo trong trường hợp phức tạp"
   ]
  },
  {
   "cell_type": "markdown",
   "id": "5947afc3",
   "metadata": {},
   "source": [
    "# Overfitting (quá khớp)"
   ]
  },
  {
   "cell_type": "markdown",
   "id": "8fad4760",
   "metadata": {},
   "source": [
    "Overfitting là nhận dạng đúng 100% dữ liệu training, nghĩa là học bài nào thì thuộc bài đấy. Có khả năng khi có dữ liệu mới chưa học thì sẽ nhận dạng sai"
   ]
  },
  {
   "cell_type": "markdown",
   "id": "277b62e9",
   "metadata": {},
   "source": [
    "dữ liệu có đánh nhãn: có giám sát\n",
    "\n",
    "dữ liệu không có đánh nhãn: ko giám sát"
   ]
  },
  {
   "cell_type": "code",
   "execution_count": null,
   "id": "214bfc5d",
   "metadata": {},
   "outputs": [],
   "source": []
  },
  {
   "cell_type": "code",
   "execution_count": null,
   "id": "f3f46883",
   "metadata": {},
   "outputs": [],
   "source": []
  },
  {
   "cell_type": "code",
   "execution_count": null,
   "id": "4c5f5350",
   "metadata": {},
   "outputs": [],
   "source": []
  },
  {
   "cell_type": "code",
   "execution_count": null,
   "id": "19fff78b",
   "metadata": {},
   "outputs": [],
   "source": []
  },
  {
   "cell_type": "code",
   "execution_count": null,
   "id": "0c83277f",
   "metadata": {},
   "outputs": [],
   "source": []
  },
  {
   "cell_type": "code",
   "execution_count": null,
   "id": "737373bd",
   "metadata": {},
   "outputs": [],
   "source": []
  },
  {
   "cell_type": "code",
   "execution_count": null,
   "id": "75c62b75",
   "metadata": {},
   "outputs": [],
   "source": []
  },
  {
   "cell_type": "code",
   "execution_count": null,
   "id": "22b06a80",
   "metadata": {},
   "outputs": [],
   "source": []
  },
  {
   "cell_type": "code",
   "execution_count": null,
   "id": "8ac98bb9",
   "metadata": {},
   "outputs": [],
   "source": []
  }
 ],
 "metadata": {
  "kernelspec": {
   "display_name": "Python 3.10.5 64-bit",
   "language": "python",
   "name": "python3"
  },
  "language_info": {
   "codemirror_mode": {
    "name": "ipython",
    "version": 3
   },
   "file_extension": ".py",
   "mimetype": "text/x-python",
   "name": "python",
   "nbconvert_exporter": "python",
   "pygments_lexer": "ipython3",
   "version": "3.10.5"
  },
  "vscode": {
   "interpreter": {
    "hash": "369f2c481f4da34e4445cda3fffd2e751bd1c4d706f27375911949ba6bb62e1c"
   }
  }
 },
 "nbformat": 4,
 "nbformat_minor": 5
}
