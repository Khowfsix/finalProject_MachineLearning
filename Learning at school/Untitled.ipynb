{
 "cells": [
  {
   "cell_type": "code",
   "execution_count": null,
   "id": "f8403721",
   "metadata": {},
   "outputs": [],
   "source": []
  }
 ],
 "metadata": {
  "kernelspec": {
   "display_name": "Python 3.9.12 ('base')",
   "language": "python",
   "name": "python3"
  },
  "language_info": {
   "codemirror_mode": {
    "name": "ipython",
    "version": 3
   },
   "file_extension": ".py",
   "mimetype": "text/x-python",
   "name": "python",
   "nbconvert_exporter": "python",
   "pygments_lexer": "ipython3",
   "version": "3.9.12"
  },
  "vscode": {
   "interpreter": {
    "hash": "668775bc528ad91b9a5c2b2b1240e5969b9b3c7c7d23dbcd39246fd328b2c58f"
   }
  }
 },
 "nbformat": 4,
 "nbformat_minor": 5
}
