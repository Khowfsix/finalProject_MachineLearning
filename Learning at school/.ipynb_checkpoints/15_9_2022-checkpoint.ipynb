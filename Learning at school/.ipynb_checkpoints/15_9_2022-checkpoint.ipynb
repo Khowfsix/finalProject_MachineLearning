{
 "cells": [
  {
   "cell_type": "code",
   "execution_count": 1,
   "id": "5b9cafb0",
   "metadata": {},
   "outputs": [],
   "source": [
    "from sklearn import datasets, linear_model\n",
    "import numpy as np\n",
    "from matplotlib import pyplot as plt\n",
    "from sklearn.preprocessing import PolynomialFeatures\n",
    "from sklearn import linear_model"
   ]
  },
  {
   "cell_type": "code",
   "execution_count": 2,
   "id": "b56f2956",
   "metadata": {},
   "outputs": [],
   "source": [
    "np.random.seed(4)"
   ]
  },
  {
   "cell_type": "code",
   "execution_count": 3,
   "id": "40b1ed44",
   "metadata": {},
   "outputs": [],
   "source": [
    "N = 30"
   ]
  },
  {
   "cell_type": "code",
   "execution_count": 4,
   "id": "39928095",
   "metadata": {},
   "outputs": [],
   "source": [
    "X = np.random.rand(N,1)*5\n",
    "y = 3*(X - 2) * (X-3)*(X-4) + 10*np.random.rand(N,1)"
   ]
  },
  {
   "cell_type": "code",
   "execution_count": 5,
   "id": "f439ce18",
   "metadata": {},
   "outputs": [],
   "source": [
    "N_test = 20"
   ]
  },
  {
   "cell_type": "code",
   "execution_count": 6,
   "id": "6c6d0955",
   "metadata": {},
   "outputs": [],
   "source": [
    "X_test = (np.random.rand(N_test,1) - 1/8) *10\n",
    "y_test = 3*(X_test - 2) * (X_test - 3)*(X_test-4) +  10*np.random.randn(N_test, 1)"
   ]
  },
  {
   "cell_type": "code",
   "execution_count": 7,
   "id": "00d82c57",
   "metadata": {},
   "outputs": [],
   "source": [
    "poly_features = PolynomialFeatures(degree=3, include_bias=True)"
   ]
  },
  {
   "cell_type": "code",
   "execution_count": 8,
   "id": "a1355e34",
   "metadata": {},
   "outputs": [],
   "source": [
    "X_poly = poly_features.fit_transform(X)"
   ]
  },
  {
   "cell_type": "code",
   "execution_count": 9,
   "id": "be1a2c29",
   "metadata": {},
   "outputs": [
    {
     "data": {
      "text/plain": [
       "(array([4.8351492]),\n",
       " array([  1.        ,   4.8351492 ,  23.37866774, 113.0393465 ]))"
      ]
     },
     "execution_count": 9,
     "metadata": {},
     "output_type": "execute_result"
    }
   ],
   "source": [
    "X[0], X_poly[0]"
   ]
  },
  {
   "cell_type": "code",
   "execution_count": 10,
   "id": "60174a9a",
   "metadata": {},
   "outputs": [],
   "source": [
    "X_poly_test = poly_features.fit_transform(X_test)"
   ]
  },
  {
   "cell_type": "code",
   "execution_count": 11,
   "id": "6adafa52",
   "metadata": {},
   "outputs": [
    {
     "data": {
      "text/plain": [
       "(array([7.79667589]),\n",
       " array([  1.        ,   7.79667589,  60.78815489, 473.9455415 ]))"
      ]
     },
     "execution_count": 11,
     "metadata": {},
     "output_type": "execute_result"
    }
   ],
   "source": [
    "X_test[0], X_poly_test[0]"
   ]
  },
  {
   "cell_type": "code",
   "execution_count": 12,
   "id": "c980c144",
   "metadata": {},
   "outputs": [],
   "source": [
    "lin_reg = linear_model.LinearRegression(fit_intercept=False)"
   ]
  },
  {
   "cell_type": "code",
   "execution_count": 20,
   "id": "628a76b6",
   "metadata": {},
   "outputs": [
    {
     "data": {
      "text/plain": [
       "LinearRegression(fit_intercept=False)"
      ]
     },
     "execution_count": 20,
     "metadata": {},
     "output_type": "execute_result"
    }
   ],
   "source": [
    "lin_reg.fit(X_poly,y)"
   ]
  },
  {
   "cell_type": "code",
   "execution_count": 14,
   "id": "eec0b87b",
   "metadata": {},
   "outputs": [
    {
     "data": {
      "text/plain": [
       "(0.0, array([[-66.69769755,  77.16102977, -26.35726386,   2.8940468 ]]))"
      ]
     },
     "execution_count": 14,
     "metadata": {},
     "output_type": "execute_result"
    }
   ],
   "source": [
    "lin_reg.intercept_ , lin_reg.coef_"
   ]
  },
  {
   "cell_type": "code",
   "execution_count": 15,
   "id": "c5839d7b",
   "metadata": {},
   "outputs": [
    {
     "data": {
      "text/plain": [
       "(0.031151276022949315, 4.917003385876564)"
      ]
     },
     "execution_count": 15,
     "metadata": {},
     "output_type": "execute_result"
    }
   ],
   "source": [
    "Xmin = np.min(X)\n",
    "Xmax = np.max(X)\n",
    "Xmin, Xmax"
   ]
  },
  {
   "cell_type": "code",
   "execution_count": 16,
   "id": "dcdcb139",
   "metadata": {},
   "outputs": [],
   "source": [
    "x_draw = np.linspace(0,10,1000)\n",
    "y_draw = np.zeros(1000, dtype=np.float64)"
   ]
  },
  {
   "cell_type": "code",
   "execution_count": 17,
   "id": "e0a27b84",
   "metadata": {},
   "outputs": [],
   "source": [
    "for i in range(1000):\n",
    "    y_draw[i] = lin_reg.coef_[0,0] + lin_reg.coef_[0,1]*x_draw[i] + lin_reg.coef_[0,2]*x_draw[i]**2 + lin_reg.coef_[0,3]*x_draw[i]**3 "
   ]
  },
  {
   "cell_type": "code",
   "execution_count": null,
   "id": "f80af22d",
   "metadata": {},
   "outputs": [],
   "source": []
  },
  {
   "cell_type": "code",
   "execution_count": 18,
   "id": "99433d77",
   "metadata": {},
   "outputs": [],
   "source": [
    "y_real = 3*(x_draw - 2) * (x_draw-3)*(x_draw-4)"
   ]
  },
  {
   "cell_type": "code",
   "execution_count": 19,
   "id": "c6ababa7",
   "metadata": {},
   "outputs": [
    {
     "data": {
      "image/png": "[encoded data removed]",
      "text/plain": [
       "<Figure size 432x288 with 1 Axes>"
      ]
     },
     "metadata": {
      "needs_background": "light"
     },
     "output_type": "display_data"
    }
   ],
   "source": [
    "plt.plot(X,y,'ro');\n",
    "plt.plot(X_test,y_test,'o');\n",
    "plt.plot(x_draw,y_draw,'r')\n",
    "plt.plot(x_draw,y_real,'--')\n",
    "plt.show()"
   ]
  },
  {
   "cell_type": "code",
   "execution_count": null,
   "id": "cd12a646",
   "metadata": {},
   "outputs": [],
   "source": []
  }
 ],
 "metadata": {
  "kernelspec": {
   "display_name": "Python 3 (ipykernel)",
   "language": "python",
   "name": "python3"
  },
  "language_info": {
   "codemirror_mode": {
    "name": "ipython",
    "version": 3
   },
   "file_extension": ".py",
   "mimetype": "text/x-python",
   "name": "python",
   "nbconvert_exporter": "python",
   "pygments_lexer": "ipython3",
   "version": "3.9.12"
  }
 },
 "nbformat": 4,
 "nbformat_minor": 5
}
