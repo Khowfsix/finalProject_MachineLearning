{
 "cells": [
  {
   "cell_type": "markdown",
   "id": "5b65e7af",
   "metadata": {},
   "source": [
    "số hiệu đầu ra dạng bình phương cộng thêm với nhiễu không phải dạng tuyến tính nên ta không thể dùng hồi quy tuyến tính để giải bài này. Nhưng ta vẫn có thể giải bài này hai hồi quy tuyến tính bằng cách thay đổi số hiệu đầu vào có dang đa thức"
   ]
  },
  {
   "cell_type": "markdown",
   "id": "8e7c167b",
   "metadata": {},
   "source": [
    "# Làm theo thầy"
   ]
  },
  {
   "cell_type": "code",
   "execution_count": 20,
   "id": "6cbfb192",
   "metadata": {},
   "outputs": [],
   "source": [
    "from sklearn import datasets, linear_model\n",
    "import numpy as np"
   ]
  },
  {
   "cell_type": "code",
   "execution_count": 21,
   "id": "96b6abbb",
   "metadata": {},
   "outputs": [],
   "source": [
    "import matplotlib.pyplot as plt"
   ]
  },
  {
   "cell_type": "code",
   "execution_count": 22,
   "id": "f163831c",
   "metadata": {},
   "outputs": [],
   "source": [
    "np.random.seed(10)\n",
    "m = 100\n",
    "X = 6 * np.random.rand(m, 1) - 3\n",
    "y = 0.5 * X**2 + X + 2 + np.random.randn(m, 1)"
   ]
  },
  {
   "cell_type": "markdown",
   "id": "42e3f691",
   "metadata": {},
   "source": [
    "số liệu ko tuyến tính thì ta bình phương số liệu lên thì ta có thể giải theo kiểu hồi quy tuyến tính"
   ]
  },
  {
   "cell_type": "code",
   "execution_count": 23,
   "id": "ecaf33ff",
   "metadata": {},
   "outputs": [],
   "source": [
    "X2 = X**2\n",
    "# Ghép 2 cột X, X2 thành 1 ma trận 10 hàng 2 cột"
   ]
  },
  {
   "cell_type": "code",
   "execution_count": 24,
   "id": "1b41d959",
   "metadata": {},
   "outputs": [
    {
     "data": {
      "text/plain": [
       "array([[ 1.62792386e+00,  2.65013609e+00],\n",
       "       [-2.87548830e+00,  8.26843299e+00],\n",
       "       [ 8.01889410e-01,  6.43026625e-01],\n",
       "       [ 1.49282330e+00,  2.22852139e+00],\n",
       "       [-8.95792618e-03,  8.02444415e-05],\n",
       "       [-1.65122013e+00,  2.72652791e+00],\n",
       "       [-1.81162281e+00,  3.28197721e+00],\n",
       "       [ 1.56318427e+00,  2.44354507e+00],\n",
       "       [-1.98533498e+00,  3.94155499e+00],\n",
       "       [-2.46996111e+00,  6.10070791e+00],\n",
       "       [ 1.11215891e+00,  1.23689744e+00],\n",
       "       [ 2.72036008e+00,  7.40035895e+00],\n",
       "       [-2.97631040e+00,  8.85842361e+00],\n",
       "       [ 7.31535803e-02,  5.35144631e-03],\n",
       "       [ 1.87572577e+00,  3.51834716e+00],\n",
       "       [ 6.75156401e-01,  4.55836166e-01],\n",
       "       [ 1.33053190e+00,  1.77031515e+00],\n",
       "       [-1.24874359e+00,  1.55936056e+00],\n",
       "       [ 2.50664474e+00,  6.28326783e+00],\n",
       "       [ 1.28745470e+00,  1.65753961e+00],\n",
       "       [ 2.55266208e-01,  6.51608370e-02],\n",
       "       [-2.14697971e+00,  4.60952189e+00],\n",
       "       [-7.59955440e-01,  5.77532270e-01],\n",
       "       [ 1.04480169e+00,  1.09161057e+00],\n",
       "       [-3.49000953e-01,  1.21801666e-01],\n",
       "       [-3.95916040e-01,  1.56749511e-01],\n",
       "       [ 7.06601871e-01,  4.99286204e-01],\n",
       "       [ 7.88294553e-02,  6.21408303e-03],\n",
       "       [ 9.02383092e-01,  8.14295244e-01],\n",
       "       [ 6.06233720e-01,  3.67519324e-01],\n",
       "       [ 1.83133918e+00,  3.35380320e+00],\n",
       "       [ 1.29882914e-01,  1.68695714e-02],\n",
       "       [ 2.45189328e+00,  6.01178068e+00],\n",
       "       [-1.08458347e+00,  1.17632129e+00],\n",
       "       [-2.45724390e+00,  6.03804761e+00],\n",
       "       [-1.19579966e+00,  1.42993683e+00],\n",
       "       [-2.31609383e+00,  5.36429062e+00],\n",
       "       [ 1.97208796e+00,  3.88913091e+00],\n",
       "       [-2.71862208e+00,  7.39090603e+00],\n",
       "       [ 7.57722890e-01,  5.74143978e-01],\n",
       "       [ 2.85516936e-01,  8.15199205e-02],\n",
       "       [ 1.91572197e+00,  3.66999068e+00],\n",
       "       [-1.80631476e+00,  3.26277302e+00],\n",
       "       [ 2.14110181e+00,  4.58431698e+00],\n",
       "       [-8.90084163e-01,  7.92249818e-01],\n",
       "       [ 1.52788615e+00,  2.33443608e+00],\n",
       "       [-1.22422976e+00,  1.49873850e+00],\n",
       "       [ 2.30361888e+00,  5.30665993e+00],\n",
       "       [-1.04693017e+00,  1.09606279e+00],\n",
       "       [-2.00990461e+00,  4.03971656e+00],\n",
       "       [-6.44824536e-01,  4.15798683e-01],\n",
       "       [-2.43923775e+00,  5.94988081e+00],\n",
       "       [ 1.92663395e+00,  3.71191837e+00],\n",
       "       [-2.09308788e+00,  4.38101688e+00],\n",
       "       [-6.95313308e-01,  4.83460596e-01],\n",
       "       [ 2.66556427e+00,  7.10523290e+00],\n",
       "       [ 2.92575285e+00,  8.56002974e+00],\n",
       "       [-2.62172717e-01,  6.87345338e-02],\n",
       "       [ 1.95673706e+00,  3.82881993e+00],\n",
       "       [-1.49175519e+00,  2.22533356e+00],\n",
       "       [ 5.84229889e-01,  3.41324564e-01],\n",
       "       [ 2.41699056e+00,  5.84184338e+00],\n",
       "       [ 2.07347693e-01,  4.29930657e-02],\n",
       "       [ 5.41208178e-01,  2.92906292e-01],\n",
       "       [-2.76430940e+00,  7.64140644e+00],\n",
       "       [-8.56909448e-01,  7.34293802e-01],\n",
       "       [-2.52232146e+00,  6.36210554e+00],\n",
       "       [-1.16724049e+00,  1.36245036e+00],\n",
       "       [-1.01568413e+00,  1.03161425e+00],\n",
       "       [ 1.64298178e+00,  2.69938912e+00],\n",
       "       [-2.76024475e+00,  7.61895107e+00],\n",
       "       [-4.23046929e-01,  1.78968704e-01],\n",
       "       [-1.11043877e+00,  1.23307426e+00],\n",
       "       [ 8.18946858e-01,  6.70673957e-01],\n",
       "       [-9.21917100e-01,  8.49931138e-01],\n",
       "       [-2.74141586e+00,  7.51536093e+00],\n",
       "       [ 2.27949105e+00,  5.19607943e+00],\n",
       "       [ 1.57944352e+00,  2.49464184e+00],\n",
       "       [ 2.26857986e+00,  5.14645456e+00],\n",
       "       [-4.94945137e-01,  2.44970689e-01],\n",
       "       [ 6.33465386e-01,  4.01278396e-01],\n",
       "       [ 8.07997644e-02,  6.52860194e-03],\n",
       "       [ 5.87019888e-01,  3.44592349e-01],\n",
       "       [-1.42670603e+00,  2.03549011e+00],\n",
       "       [-1.19477215e+00,  1.42748048e+00],\n",
       "       [-2.84760131e+00,  8.10883321e+00],\n",
       "       [-1.18162464e+00,  1.39623678e+00],\n",
       "       [-1.54754475e+00,  2.39489475e+00],\n",
       "       [ 3.45469132e-01,  1.19348921e-01],\n",
       "       [ 3.93042119e-01,  1.54482108e-01],\n",
       "       [-1.49206516e-01,  2.22625843e-02],\n",
       "       [-1.24321214e+00,  1.54557643e+00],\n",
       "       [-2.61449364e+00,  6.83557697e+00],\n",
       "       [ 2.87291487e+00,  8.25363988e+00],\n",
       "       [-9.61752938e-01,  9.24968714e-01],\n",
       "       [-2.97082147e-02,  8.82578021e-04],\n",
       "       [ 2.86248436e+00,  8.19381669e+00],\n",
       "       [-3.55357051e-01,  1.26278633e-01],\n",
       "       [-1.09036317e+00,  1.18889184e+00],\n",
       "       [ 1.18781915e-01,  1.41091434e-02]])"
      ]
     },
     "execution_count": 24,
     "metadata": {},
     "output_type": "execute_result"
    }
   ],
   "source": [
    "X_poly = np.hstack([X,X2])\n",
    "X_poly"
   ]
  },
  {
   "cell_type": "code",
   "execution_count": 25,
   "id": "1ccbd74d",
   "metadata": {},
   "outputs": [
    {
     "data": {
      "text/plain": [
       "LinearRegression()"
      ]
     },
     "execution_count": 25,
     "metadata": {},
     "output_type": "execute_result"
    }
   ],
   "source": [
    "lin_reg = linear_model.LinearRegression()\n",
    "# a + bx + cx^2\n",
    "lin_reg.fit(X_poly,y)"
   ]
  },
  {
   "cell_type": "code",
   "execution_count": 26,
   "id": "b3eeafd1",
   "metadata": {},
   "outputs": [
    {
     "name": "stdout",
     "output_type": "stream",
     "text": [
      "[2.11417169]\n"
     ]
    }
   ],
   "source": [
    "print(lin_reg.intercept_)"
   ]
  },
  {
   "cell_type": "code",
   "execution_count": 27,
   "id": "d9a9b786",
   "metadata": {},
   "outputs": [
    {
     "name": "stdout",
     "output_type": "stream",
     "text": [
      "[[0.93728719 0.48267354]]\n"
     ]
    }
   ],
   "source": [
    "print(lin_reg.coef_)"
   ]
  },
  {
   "cell_type": "code",
   "execution_count": 28,
   "id": "e454e218",
   "metadata": {},
   "outputs": [
    {
     "data": {
      "text/plain": [
       "(2.1141716936103094, 0.9372871901308347, 0.4826735398822332)"
      ]
     },
     "execution_count": 28,
     "metadata": {},
     "output_type": "execute_result"
    }
   ],
   "source": [
    "a = lin_reg.intercept_[0]\n",
    "b = lin_reg.coef_[0,0]\n",
    "c = lin_reg.coef_[0,1]\n",
    "a,b,c"
   ]
  },
  {
   "cell_type": "code",
   "execution_count": 29,
   "id": "095bc5b5",
   "metadata": {},
   "outputs": [],
   "source": [
    "x_ve = np.linspace(-3,3,m)\n",
    "y_ve = a + b*x_ve + c*(x_ve**2)"
   ]
  },
  {
   "cell_type": "code",
   "execution_count": 30,
   "id": "90df2a82",
   "metadata": {},
   "outputs": [
    {
     "data": {
      "image/png": "[encoded data removed]",
      "text/plain": [
       "<Figure size 432x288 with 1 Axes>"
      ]
     },
     "metadata": {
      "needs_background": "light"
     },
     "output_type": "display_data"
    }
   ],
   "source": [
    "plt.plot(X,y,'o')\n",
    "plt.plot(x_ve,y_ve,'r')\n",
    "plt.show()"
   ]
  },
  {
   "cell_type": "markdown",
   "id": "3e16695e",
   "metadata": {},
   "source": [
    "# Tính sai số"
   ]
  },
  {
   "cell_type": "markdown",
   "id": "c7eede01",
   "metadata": {},
   "source": [
    "tính bằng công thức"
   ]
  },
  {
   "cell_type": "code",
   "execution_count": 37,
   "id": "e3ea776c",
   "metadata": {},
   "outputs": [],
   "source": [
    "# sai số bình phương trung bình\n",
    "\n",
    "loss = 0\n",
    "for i in range(0,m):\n",
    "    y_mu = a + b*X_poly[i,0] + c*X_poly[i,1]\n",
    "    sai_so = (y[i] - y_mu)**2\n",
    "    loss = loss + sai_so\n",
    "loss = loss/(2*m)"
   ]
  },
  {
   "cell_type": "code",
   "execution_count": 38,
   "id": "58d572bc",
   "metadata": {},
   "outputs": [
    {
     "data": {
      "text/plain": [
       "array([0.48532776])"
      ]
     },
     "execution_count": 38,
     "metadata": {},
     "output_type": "execute_result"
    }
   ],
   "source": [
    "loss"
   ]
  },
  {
   "cell_type": "markdown",
   "id": "1559c70c",
   "metadata": {},
   "source": [
    "tính bằng scikit-learn"
   ]
  },
  {
   "cell_type": "code",
   "execution_count": 39,
   "id": "2bba1e75",
   "metadata": {},
   "outputs": [],
   "source": [
    "from sklearn.metrics import mean_squared_error\n",
    "from sklearn.model_selection import train_test_split"
   ]
  },
  {
   "cell_type": "code",
   "execution_count": 41,
   "id": "32960f66",
   "metadata": {},
   "outputs": [],
   "source": [
    "y_train_predict = lin_reg.predict(X_poly)"
   ]
  },
  {
   "cell_type": "code",
   "execution_count": 42,
   "id": "760f90ce",
   "metadata": {},
   "outputs": [],
   "source": [
    "meanSquaredError = mean_squared_error(y,y_train_predict)"
   ]
  },
  {
   "cell_type": "code",
   "execution_count": 44,
   "id": "afe0be48",
   "metadata": {},
   "outputs": [
    {
     "data": {
      "text/plain": [
       "0.48532776121051957"
      ]
     },
     "execution_count": 44,
     "metadata": {},
     "output_type": "execute_result"
    }
   ],
   "source": [
    "meanSquaredError/2"
   ]
  },
  {
   "cell_type": "markdown",
   "id": "779a75da",
   "metadata": {},
   "source": [
    "lựa chọn bậc để có sai số nhỏ nhất"
   ]
  },
  {
   "cell_type": "markdown",
   "id": "cadec435",
   "metadata": {},
   "source": [
    "# thử nhiễu"
   ]
  },
  {
   "cell_type": "code",
   "execution_count": 110,
   "id": "5746f544",
   "metadata": {},
   "outputs": [],
   "source": [
    "from sklearn import datasets, linear_model\n",
    "import numpy as np\n",
    "import matplotlib.pyplot as plt"
   ]
  },
  {
   "cell_type": "code",
   "execution_count": 146,
   "id": "1d7e2116",
   "metadata": {},
   "outputs": [],
   "source": [
    "np.random.seed(100)"
   ]
  },
  {
   "cell_type": "code",
   "execution_count": 183,
   "id": "93f8125e",
   "metadata": {},
   "outputs": [],
   "source": [
    "m = 20\n",
    "X = 10*np.random.rand(m,1) - 5\n",
    "Y = 2*X + 1 + np.random.rand(m,1)\n",
    "\n",
    "# Tạo nhiễu\n",
    "Y[15] = 100"
   ]
  },
  {
   "cell_type": "code",
   "execution_count": 184,
   "id": "455e115c",
   "metadata": {},
   "outputs": [],
   "source": [
    "lin_reg = linear_model.LinearRegression()"
   ]
  },
  {
   "cell_type": "code",
   "execution_count": 185,
   "id": "cb5b9deb",
   "metadata": {},
   "outputs": [
    {
     "data": {
      "text/plain": [
       "LinearRegression()"
      ]
     },
     "execution_count": 185,
     "metadata": {},
     "output_type": "execute_result"
    }
   ],
   "source": [
    "lin_reg.fit(X,Y)"
   ]
  },
  {
   "cell_type": "code",
   "execution_count": 186,
   "id": "8da48b84",
   "metadata": {},
   "outputs": [],
   "source": [
    "a = lin_reg.coef_[0]\n",
    "b = lin_reg.intercept_[0]\n",
    "a,b\n",
    "\n",
    "x_draw = np.linspace(-5,5,100)\n",
    "y_draw = b + a*x_draw"
   ]
  },
  {
   "cell_type": "code",
   "execution_count": 187,
   "id": "995f5c07",
   "metadata": {},
   "outputs": [
    {
     "data": {
      "image/png": "[encoded data removed]",
      "text/plain": [
       "<Figure size 432x288 with 1 Axes>"
      ]
     },
     "metadata": {
      "needs_background": "light"
     },
     "output_type": "display_data"
    }
   ],
   "source": [
    "plt.plot(X,Y,'o')\n",
    "plt.plot(x_draw,y_draw,'r')\n",
    "plt.show()"
   ]
  },
  {
   "cell_type": "markdown",
   "id": "925a15f3",
   "metadata": {},
   "source": [
    "dùng hồi quy Huber để khử nhiễu"
   ]
  },
  {
   "cell_type": "code",
   "execution_count": 192,
   "id": "db279450",
   "metadata": {},
   "outputs": [],
   "source": [
    "hub_reg = linear_model.HuberRegressor()"
   ]
  },
  {
   "cell_type": "code",
   "execution_count": 203,
   "id": "0b68e50a",
   "metadata": {},
   "outputs": [
    {
     "name": "stderr",
     "output_type": "stream",
     "text": [
      "C:\\Users\\HONG PHAT\\anaconda3\\lib\\site-packages\\sklearn\\utils\\validation.py:993: DataConversionWarning: A column-vector y was passed when a 1d array was expected. Please change the shape of y to (n_samples, ), for example using ravel().\n",
      "  y = column_or_1d(y, warn=True)\n"
     ]
    },
    {
     "data": {
      "text/plain": [
       "HuberRegressor()"
      ]
     },
     "execution_count": 203,
     "metadata": {},
     "output_type": "execute_result"
    }
   ],
   "source": [
    "hub_reg.fit(X,Y)"
   ]
  },
  {
   "cell_type": "code",
   "execution_count": 198,
   "id": "92882877",
   "metadata": {},
   "outputs": [
    {
     "ename": "IndexError",
     "evalue": "invalid index to scalar variable.",
     "output_type": "error",
     "traceback": [
      "\u001b[1;31m---------------------------------------------------------------------------\u001b[0m",
      "\u001b[1;31mIndexError\u001b[0m                                Traceback (most recent call last)",
      "Input \u001b[1;32mIn [198]\u001b[0m, in \u001b[0;36m<cell line: 2>\u001b[1;34m()\u001b[0m\n\u001b[0;32m      1\u001b[0m a \u001b[38;5;241m=\u001b[39m hub_reg\u001b[38;5;241m.\u001b[39mcoef_[\u001b[38;5;241m0\u001b[39m]\n\u001b[1;32m----> 2\u001b[0m b \u001b[38;5;241m=\u001b[39m \u001b[43mhub_reg\u001b[49m\u001b[38;5;241;43m.\u001b[39;49m\u001b[43mintercept_\u001b[49m\u001b[43m[\u001b[49m\u001b[38;5;241;43m0\u001b[39;49m\u001b[43m]\u001b[49m\n\u001b[0;32m      3\u001b[0m a,b\n\u001b[0;32m      5\u001b[0m x_draw \u001b[38;5;241m=\u001b[39m np\u001b[38;5;241m.\u001b[39mlinspace(\u001b[38;5;241m-\u001b[39m\u001b[38;5;241m5\u001b[39m,\u001b[38;5;241m5\u001b[39m,\u001b[38;5;241m100\u001b[39m)\n",
      "\u001b[1;31mIndexError\u001b[0m: invalid index to scalar variable."
     ]
    }
   ],
   "source": [
    "a = hub_reg.coef_[0]\n",
    "b = hub_reg.intercept_[0]\n",
    "a,b\n",
    "\n",
    "x_draw = np.linspace(-5,5,100)\n",
    "y_draw = b + a*x_draw"
   ]
  },
  {
   "cell_type": "code",
   "execution_count": 181,
   "id": "6c74a12d",
   "metadata": {},
   "outputs": [
    {
     "data": {
      "image/png": "[encoded data removed]",
      "text/plain": [
       "<Figure size 432x288 with 1 Axes>"
      ]
     },
     "metadata": {
      "needs_background": "light"
     },
     "output_type": "display_data"
    }
   ],
   "source": [
    "plt.plot(X,Y,'o')\n",
    "plt.plot(x_draw,y_draw,'r')\n",
    "plt.show()"
   ]
  },
  {
   "cell_type": "markdown",
   "id": "01479f96",
   "metadata": {},
   "source": [
    "Hồi quy ridge là để tích được ma trận nghịch đảo trong trường hợp phức tạp"
   ]
  },
  {
   "cell_type": "markdown",
   "id": "5947afc3",
   "metadata": {},
   "source": [
    "# Overfitting (quá khớp)"
   ]
  },
  {
   "cell_type": "markdown",
   "id": "8fad4760",
   "metadata": {},
   "source": [
    "Overfitting là nhận dạng đúng 100% dữ liệu training, nghĩa là học bài nào thì thuộc bài đấy. Có khả năng khi có dữ liệu mới chưa học thì sẽ nhận dạng sai"
   ]
  },
  {
   "cell_type": "code",
   "execution_count": null,
   "id": "00bf4128",
   "metadata": {},
   "outputs": [],
   "source": []
  }
 ],
 "metadata": {
  "kernelspec": {
   "display_name": "Python 3 (ipykernel)",
   "language": "python",
   "name": "python3"
  },
  "language_info": {
   "codemirror_mode": {
    "name": "ipython",
    "version": 3
   },
   "file_extension": ".py",
   "mimetype": "text/x-python",
   "name": "python",
   "nbconvert_exporter": "python",
   "pygments_lexer": "ipython3",
   "version": "3.9.12"
  }
 },
 "nbformat": 4,
 "nbformat_minor": 5
}
