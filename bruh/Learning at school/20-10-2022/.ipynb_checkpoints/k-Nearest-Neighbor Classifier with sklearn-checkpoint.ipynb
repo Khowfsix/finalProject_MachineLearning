{
 "cells": [
  {
   "cell_type": "code",
   "execution_count": 65,
   "id": "833379c0",
   "metadata": {},
   "outputs": [],
   "source": [
    "from sklearn.datasets import make_blobs\n",
    "import matplotlib.pyplot as plt\n",
    "import numpy as np\n",
    "\n",
    "N = 150\n",
    "np.random.seed(100)\n",
    "\n",
    "centers = [[2, 3], [5, 5], [1, 8]]\n",
    "n_classes = len(centers)\n",
    "data, labels = make_blobs(n_samples=N, \n",
    "                          centers=np.array(centers),\n",
    "                          random_state=1)"
   ]
  },
  {
   "cell_type": "markdown",
   "id": "7f005192",
   "metadata": {},
   "source": [
    "# visualize what have created:"
   ]
  },
  {
   "cell_type": "code",
   "execution_count": 66,
   "id": "ed0ae0fc",
   "metadata": {},
   "outputs": [
    {
     "data": {
      "image/png": "[encoded data removed]",
      "text/plain": [
       "<Figure size 432x288 with 1 Axes>"
      ]
     },
     "metadata": {
      "needs_background": "light"
     },
     "output_type": "display_data"
    }
   ],
   "source": [
    "colours = ('green', 'red', 'blue')\n",
    "n_classes = 3\n",
    "\n",
    "fig, ax = plt.subplots()\n",
    "for n_class in range(0, n_classes):\n",
    "    ax.scatter(data[labels==n_class, 0], data[labels==n_class, 1], \n",
    "               c=colours[n_class], s=10, label=str(n_class))\n",
    "\n",
    "ax.legend(loc='upper right');"
   ]
  },
  {
   "cell_type": "markdown",
   "id": "6d43828d",
   "metadata": {},
   "source": [
    "# split  the data in a test and train set."
   ]
  },
  {
   "cell_type": "code",
   "execution_count": 67,
   "id": "7548b39b",
   "metadata": {},
   "outputs": [],
   "source": [
    "from sklearn.model_selection import train_test_split\n",
    "res = train_test_split(data, labels, \n",
    "                       train_size=0.8,\n",
    "                       test_size=0.2,\n",
    "                       random_state=1)\n",
    "\n",
    "train_data, test_data, train_labels, test_labels = res "
   ]
  },
  {
   "cell_type": "code",
   "execution_count": 68,
   "id": "b147acc6",
   "metadata": {},
   "outputs": [
    {
     "data": {
      "text/plain": [
       "(array([[ 2.48851815,  2.92442829],\n",
       "        [ 0.88268965,  3.2344157 ],\n",
       "        [ 4.96130449,  3.38422765],\n",
       "        [ 1.30833925,  2.60324647],\n",
       "        [ 4.8190797 ,  4.39607937],\n",
       "        [ 3.72744124,  5.31354772],\n",
       "        [ 3.62688268,  5.31515939],\n",
       "        [ 5.07782113,  5.61838026],\n",
       "        [ 5.44136444,  4.89984477],\n",
       "        [ 3.19891788,  3.18515642],\n",
       "        [ 3.05117344,  8.585662  ],\n",
       "        [ 2.04221375,  3.58281521],\n",
       "        [ 4.81343023,  4.89825413],\n",
       "        [ 5.49521132,  4.82529684],\n",
       "        [ 5.50318481,  6.29322588],\n",
       "        [ 6.33145711,  4.71269214],\n",
       "        [ 1.10622272,  6.47431968],\n",
       "        [ 6.12141771,  5.40890054],\n",
       "        [ 5.35054598,  3.68771659],\n",
       "        [ 4.68988323,  2.56516224],\n",
       "        [ 1.1340482 ,  9.20205486],\n",
       "        [ 0.50178644,  7.68901502],\n",
       "        [ 1.42952614,  7.3930016 ],\n",
       "        [ 1.66102029,  9.79215821],\n",
       "        [ 6.62765075,  5.3380117 ],\n",
       "        [ 2.51292982,  2.70190716],\n",
       "        [ 1.65614632,  3.04359686],\n",
       "        [ 1.25284171,  4.6924546 ],\n",
       "        [ 1.32933771,  3.37756379],\n",
       "        [ 1.36633201,  6.95541062],\n",
       "        [ 5.81095167,  6.04444209],\n",
       "        [ 5.5627611 ,  5.24073709],\n",
       "        [ 1.79110577,  3.58662319],\n",
       "        [ 5.24879916,  4.70335885],\n",
       "        [ 2.55880554,  8.1094027 ],\n",
       "        [-0.65072127,  7.10944442],\n",
       "        [ 2.31563495,  0.97779878],\n",
       "        [ 5.86888616,  5.75041164],\n",
       "        [ 5.60231928,  5.4202822 ],\n",
       "        [ 1.0607502 ,  8.21112476],\n",
       "        [ 0.65501279,  7.76916026],\n",
       "        [ 6.90465871,  6.1110567 ],\n",
       "        [ 2.40754   ,  8.12910158],\n",
       "        [ 1.69379599,  3.82797464],\n",
       "        [ 2.23009474,  3.76201118],\n",
       "        [ 3.80073197,  5.86334532],\n",
       "        [ 2.90159072,  3.50249434],\n",
       "        [ 2.16003707,  3.87616892],\n",
       "        [ 1.3128273 ,  2.15479436],\n",
       "        [-1.793085  ,  9.93752881],\n",
       "        [ 2.19091548,  5.10025514],\n",
       "        [ 1.49233656,  7.31932186],\n",
       "        [ 3.74481176,  2.2387931 ],\n",
       "        [ 5.98633519,  5.2135339 ],\n",
       "        [ 1.28474811,  8.26246745],\n",
       "        [ 5.79280687,  4.37646927],\n",
       "        [ 0.91549197,  7.70263812],\n",
       "        [ 1.83600472,  9.54335911],\n",
       "        [ 0.2996015 ,  7.79660555],\n",
       "        [ 1.82757179,  2.12214158],\n",
       "        [-0.44087602,  9.23225307],\n",
       "        [ 1.6775828 ,  2.61594565],\n",
       "        [ 0.99810852,  6.60337958],\n",
       "        [ 3.62434536,  2.38824359],\n",
       "        [ 0.12271848,  7.13221278],\n",
       "        [-0.33195167,  6.23931144],\n",
       "        [ 0.21808832,  7.56249102],\n",
       "        [ 2.81053491,  6.69427308],\n",
       "        [ 0.87953543,  6.76687926],\n",
       "        [ 6.27375593,  6.96710175],\n",
       "        [ 5.80186103,  5.0465673 ],\n",
       "        [ 5.68006984,  4.6801984 ],\n",
       "        [ 1.79502609,  7.62556168],\n",
       "        [ 0.74582013,  9.39984394],\n",
       "        [ 2.42349435,  3.07734007],\n",
       "        [ 1.75880566,  8.88490881],\n",
       "        [ 7.19069973,  3.10363908],\n",
       "        [ 1.62471505,  2.36126959],\n",
       "        [ 5.28066508,  4.9268873 ],\n",
       "        [ 2.28558733,  3.88514116],\n",
       "        [ 3.65980218,  3.74204416],\n",
       "        [ 1.24560206,  4.25286816],\n",
       "        [-0.67419581,  8.82502982],\n",
       "        [ 4.97538304,  4.22483838],\n",
       "        [ 3.13162939,  4.51981682],\n",
       "        [ 4.86355526,  4.88094581],\n",
       "        [ 3.46210794,  0.93985929],\n",
       "        [ 0.89938082,  4.14472371],\n",
       "        [ 5.40349164,  5.59357852],\n",
       "        [ 2.19829972,  3.11900865],\n",
       "        [ 1.87710977,  2.06423057],\n",
       "        [ 0.43769457,  9.95487808],\n",
       "        [ 3.76994186,  5.5505375 ],\n",
       "        [ 2.6169496 ,  8.50274088],\n",
       "        [-0.2197444 , 10.44936865],\n",
       "        [ 0.04457474,  8.58591043],\n",
       "        [ 2.90085595,  2.31627214],\n",
       "        [-0.23685338,  8.87583893],\n",
       "        [ 1.01652757,  8.17718772],\n",
       "        [ 4.35308331,  5.90148689],\n",
       "        [ 0.45422583,  7.80116214],\n",
       "        [ 4.55287144,  6.2245077 ],\n",
       "        [ 4.73378149,  5.03261455],\n",
       "        [ 5.84616065,  4.14048406],\n",
       "        [ 4.18557541,  1.60350366],\n",
       "        [-0.1191154 ,  9.9560789 ],\n",
       "        [ 1.09542509,  8.92145007],\n",
       "        [ 2.18656139,  3.41005165],\n",
       "        [ 2.12182127,  4.12948391],\n",
       "        [ 0.59912181,  8.82400562],\n",
       "        [ 1.24266944,  8.20183018],\n",
       "        [ 3.90508815,  5.16938243],\n",
       "        [ 5.52946532,  5.13770121],\n",
       "        [ 7.52832571,  4.75136522],\n",
       "        [ 4.48290554,  4.00297317],\n",
       "        [ 0.13868364,  8.67471153],\n",
       "        [ 2.05080775,  2.36300435],\n",
       "        [ 3.13376944,  1.90010873],\n",
       "        [ 0.6735005 ,  6.65732421],\n",
       "        [ 5.74055645,  4.0462994 ]]),\n",
       " array([[ 2.11438298,  7.41347606],\n",
       "        [-0.18231813,  7.33424548],\n",
       "        [ 1.62336218,  7.56504332],\n",
       "        [ 2.12015895,  3.61720311],\n",
       "        [ 1.37999916,  3.69803203],\n",
       "        [ 5.23249456,  5.68255141],\n",
       "        [ 6.16033857,  5.36949272],\n",
       "        [ 1.61853913,  7.55682807],\n",
       "        [ 1.417302  ,  8.78477065],\n",
       "        [ 5.01740941,  3.87798127],\n",
       "        [ 1.73211192,  3.53035547],\n",
       "        [ 5.04366899,  4.77368576],\n",
       "        [ 1.77767186,  2.79924193],\n",
       "        [ 2.30017032,  2.64775015],\n",
       "        [ 1.2764993 ,  7.2667284 ],\n",
       "        [ 1.80816445,  2.11237104],\n",
       "        [ 0.8574818 ,  2.65065728],\n",
       "        [ 2.3190391 ,  2.75062962],\n",
       "        [ 5.6590498 ,  3.37256166],\n",
       "        [ 0.55588619,  2.49553414],\n",
       "        [ 1.47182825,  1.92703138],\n",
       "        [ 5.52057634,  3.85565861],\n",
       "        [ 6.0388246 ,  7.18697965],\n",
       "        [-0.11647002,  8.0809271 ],\n",
       "        [ 2.83898341,  3.93110208],\n",
       "        [ 1.32875387,  2.9873354 ],\n",
       "        [ 2.86540763,  0.6984613 ],\n",
       "        [ 4.88955297,  4.38263794],\n",
       "        [ 0.81342101,  7.94317552],\n",
       "        [ 3.14201814,  6.23616403]]),\n",
       " array([0, 0, 1, 0, 1, 1, 1, 1, 1, 0, 2, 0, 1, 1, 1, 1, 2, 1, 1, 1, 2, 2,\n",
       "        2, 2, 1, 0, 0, 0, 0, 2, 1, 1, 0, 1, 2, 2, 0, 1, 1, 2, 2, 1, 2, 0,\n",
       "        0, 1, 0, 0, 0, 2, 0, 2, 0, 1, 2, 1, 2, 2, 2, 0, 2, 0, 2, 0, 2, 2,\n",
       "        2, 2, 2, 1, 1, 1, 2, 2, 0, 2, 1, 0, 1, 0, 0, 0, 2, 1, 0, 1, 0, 0,\n",
       "        1, 0, 0, 2, 1, 2, 2, 2, 0, 2, 2, 1, 2, 1, 1, 1, 0, 2, 2, 0, 0, 2,\n",
       "        2, 1, 1, 1, 1, 2, 0, 0, 2, 1]),\n",
       " array([2, 2, 2, 0, 0, 1, 1, 2, 2, 1, 0, 1, 0, 0, 2, 0, 0, 0, 1, 0, 0, 1,\n",
       "        1, 2, 0, 0, 0, 1, 2, 1]))"
      ]
     },
     "execution_count": 68,
     "metadata": {},
     "output_type": "execute_result"
    }
   ],
   "source": [
    "train_data, test_data, train_labels, test_labels"
   ]
  },
  {
   "cell_type": "markdown",
   "id": "73916550",
   "metadata": {},
   "source": [
    "# perform the classification with the kNeighborsClassifier:"
   ]
  },
  {
   "cell_type": "code",
   "execution_count": 69,
   "id": "d18ba3b4",
   "metadata": {},
   "outputs": [
    {
     "name": "stdout",
     "output_type": "stream",
     "text": [
      "Predictions from the classifier:\n",
      "[2 2 2 0 0 1 1 2 2 1 0 1 0 0 2 0 0 0 1 0 0 1 1 2 0 0 0 1 2 1]\n",
      "Target values:\n",
      "[2 2 2 0 0 1 1 2 2 1 0 1 0 0 2 0 0 0 1 0 0 1 1 2 0 0 0 1 2 1]\n"
     ]
    }
   ],
   "source": [
    "# Create and fit a nearest-neighbor classifier\n",
    "from sklearn.neighbors import KNeighborsClassifier\n",
    "knn = KNeighborsClassifier()\n",
    "knn.fit(train_data, train_labels) \n",
    "\n",
    "predicted = knn.predict(test_data)\n",
    "print(\"Predictions from the classifier:\")\n",
    "print(predicted)\n",
    "print(\"Target values:\")\n",
    "print(test_labels)"
   ]
  },
  {
   "cell_type": "markdown",
   "id": "cd86e8c6",
   "metadata": {},
   "source": [
    "# To evaluate the result, use accuracy_score from the module sklearn.metrics. To see how accuracy_score works, use a simple example with pseudo predictions and labels:"
   ]
  },
  {
   "cell_type": "markdown",
   "id": "7fe37f5b",
   "metadata": {},
   "source": [
    "Tính sai số"
   ]
  },
  {
   "cell_type": "code",
   "execution_count": 70,
   "id": "4bd38c5e",
   "metadata": {},
   "outputs": [
    {
     "name": "stdout",
     "output_type": "stream",
     "text": [
      "0.5714285714285714\n"
     ]
    }
   ],
   "source": [
    "from sklearn.metrics import accuracy_score\n",
    "example_predictions = [0, 2, 1, 3, 2, 0, 1]\n",
    "example_labels      = [0, 1, 2, 3, 2, 1, 1]\n",
    "print(accuracy_score(example_predictions, example_labels))"
   ]
  },
  {
   "cell_type": "code",
   "execution_count": null,
   "id": "e9055a86",
   "metadata": {},
   "outputs": [],
   "source": []
  },
  {
   "cell_type": "code",
   "execution_count": null,
   "id": "7dfa77f5",
   "metadata": {},
   "outputs": [],
   "source": []
  },
  {
   "cell_type": "code",
   "execution_count": null,
   "id": "81a4e472",
   "metadata": {},
   "outputs": [],
   "source": []
  },
  {
   "cell_type": "code",
   "execution_count": null,
   "id": "92ed3b9a",
   "metadata": {},
   "outputs": [],
   "source": []
  },
  {
   "cell_type": "code",
   "execution_count": null,
   "id": "d83f38f5",
   "metadata": {},
   "outputs": [],
   "source": []
  },
  {
   "cell_type": "code",
   "execution_count": null,
   "id": "d1e3251c",
   "metadata": {},
   "outputs": [],
   "source": []
  },
  {
   "cell_type": "markdown",
   "id": "6be0c47e",
   "metadata": {},
   "source": [
    "# Testing run"
   ]
  },
  {
   "cell_type": "markdown",
   "id": "6206e946",
   "metadata": {},
   "source": [
    "vì code mẫu lấy chung cả 3 nhóm lam lục đỏ làm 1 nhóm 150, nên việc lấy mẫu 8:2 sẽ có xác suất không chuẩn lấy không đều, nên mình phải tách 3 nhóm đó ra làm các nhóm tách biệt để khi lấy mẫu training sẽ chuẩn hơn"
   ]
  },
  {
   "cell_type": "code",
   "execution_count": 74,
   "id": "eef1dc0d",
   "metadata": {},
   "outputs": [
    {
     "name": "stdout",
     "output_type": "stream",
     "text": [
      "Sai so:  0.9666666666666667\n",
      "Predictions from the classifier:\n",
      "[2]\n"
     ]
    },
    {
     "data": {
      "image/png": "[encoded data removed]",
      "text/plain": [
       "<Figure size 432x288 with 1 Axes>"
      ]
     },
     "metadata": {
      "needs_background": "light"
     },
     "output_type": "display_data"
    }
   ],
   "source": [
    "from sklearn.datasets import make_blobs\n",
    "import matplotlib.pyplot as plt\n",
    "import numpy as np\n",
    "from sklearn.model_selection import train_test_split\n",
    "from sklearn.neighbors import KNeighborsClassifier\n",
    "from sklearn.metrics import accuracy_score\n",
    "\n",
    "N = 1500\n",
    "np.random.seed(100)\n",
    "\n",
    "\n",
    "def main():\n",
    "    centers = [[2, 3], [5, 5], [1, 8]]\n",
    "    n_classes = len(centers)\n",
    "    data, labels = make_blobs(n_samples=N,\n",
    "                              centers=np.array(centers),\n",
    "                              random_state=1)\n",
    "    nhom_0 = []\n",
    "    nhom_1 = []\n",
    "    nhom_2 = []\n",
    "\n",
    "    for i in range(N):\n",
    "        if labels[i] == 0:\n",
    "            nhom_0.append([data[i, 0], data[i, 1]])\n",
    "        elif labels[i] == 1:\n",
    "            nhom_1.append([data[i, 0], data[i, 1]])\n",
    "        else:\n",
    "            nhom_2.append([data[i, 0], data[i, 1]])\n",
    "\n",
    "\n",
    "    nhom_0 = np.array(nhom_0)\n",
    "    nhom_1 = np.array(nhom_1)\n",
    "    nhom_2 = np.array(nhom_2)\n",
    "\n",
    "    plt.plot(nhom_0[:, 0], nhom_0[:, 1], 'og', markersize=2)\n",
    "    plt.plot(nhom_1[:, 0], nhom_1[:, 1], 'or', markersize=2)\n",
    "    plt.plot(nhom_2[:, 0], nhom_2[:, 1], 'ob', markersize=2)\n",
    "\n",
    "    res = train_test_split(data, labels,\n",
    "                           train_size=0.8,\n",
    "                           test_size=0.2,\n",
    "                           random_state=1)\n",
    "\n",
    "    train_data, test_data, train_labels, test_labels = res\n",
    "\n",
    "    # default = 5\n",
    "    knn = KNeighborsClassifier(n_neighbors=5)\n",
    "    knn.fit(train_data, train_labels)\n",
    "    predicted = knn.predict(test_data)\n",
    "\n",
    "    sai_so = accuracy_score(test_labels, predicted)\n",
    "    print(\"Sai so: \", sai_so)\n",
    "\n",
    "    predicted = knn.predict([[0, 8]])\n",
    "    print(\"Predictions from the classifier:\")\n",
    "    print(predicted)\n",
    "\n",
    "    plt.show()\n",
    "\n",
    "\n",
    "if __name__ == \"__main__\":\n",
    "    main()\n",
    "\n"
   ]
  },
  {
   "cell_type": "code",
   "execution_count": null,
   "id": "0b648d26",
   "metadata": {},
   "outputs": [],
   "source": []
  }
 ],
 "metadata": {
  "kernelspec": {
   "display_name": "Python 3 (ipykernel)",
   "language": "python",
   "name": "python3"
  },
  "language_info": {
   "codemirror_mode": {
    "name": "ipython",
    "version": 3
   },
   "file_extension": ".py",
   "mimetype": "text/x-python",
   "name": "python",
   "nbconvert_exporter": "python",
   "pygments_lexer": "ipython3",
   "version": "3.9.12"
  }
 },
 "nbformat": 4,
 "nbformat_minor": 5
}
